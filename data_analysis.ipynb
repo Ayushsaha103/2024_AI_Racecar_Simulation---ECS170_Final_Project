{
 "cells": [
  {
   "cell_type": "code",
   "execution_count": null,
   "metadata": {},
   "outputs": [],
   "source": [
    "# Imports\n",
    "import pandas as pd\n",
    "import numpy as np\n",
    "import matplotlib.pyplot as plt"
   ]
  },
  {
   "cell_type": "markdown",
   "metadata": {},
   "source": [
    "## A2C Analysis"
   ]
  },
  {
   "cell_type": "code",
   "execution_count": null,
   "metadata": {},
   "outputs": [],
   "source": [
    "df1 = pd.read_csv(\"metrics/a2c/a2c_1.csv\")\n",
    "df2 = pd.read_csv(\"metrics/a2c/a2c_2.csv\")"
   ]
  },
  {
   "cell_type": "code",
   "execution_count": null,
   "metadata": {},
   "outputs": [],
   "source": [
    "df1.plot(y=\"distance_traveled\", title=\"A2C Distance Traveled (Session 1)\", style=\".-\")\n",
    "df2.plot(y=\"distance_traveled\", title=\"A2C Distance Traveled (Session 2)\", style=\".-\")"
   ]
  },
  {
   "cell_type": "code",
   "execution_count": null,
   "metadata": {},
   "outputs": [],
   "source": [
    "df1_grouped = df1.groupby(df1.index // 100).mean()\n",
    "df1_grouped.plot(\n",
    "    y=\"distance_traveled\",\n",
    "    title=\"A2C Distance Traveled (Average every 100 episodes) (Session 1)\",\n",
    "    style=\".-\",\n",
    "    xticks=range(0, len(df1_grouped), 5),\n",
    "    xlabel=\"Episode (x100)\",\n",
    "    ylabel=\"Distance Traveled\",\n",
    ")\n",
    "\n",
    "df2_grouped = df2.groupby(df2.index // 50).mean()\n",
    "df2_grouped.plot(\n",
    "    y=\"distance_traveled\",\n",
    "    title=\"A2C Distance Traveled (Average every 50 episodes) (Session 2)\",\n",
    "    style=\".-\",\n",
    "    xticks=range(0, len(df2_grouped), 5),\n",
    "    xlabel=\"Episode (x50)\",\n",
    ")"
   ]
  },
  {
   "cell_type": "markdown",
   "metadata": {},
   "source": [
    "## PPO Analysis"
   ]
  },
  {
   "cell_type": "code",
   "execution_count": null,
   "metadata": {},
   "outputs": [],
   "source": [
    "df1 = pd.read_csv(\"metrics/ppo/ppo_1.csv\")\n",
    "df2 = pd.read_csv(\"metrics/ppo/ppo_2.csv\")"
   ]
  },
  {
   "cell_type": "code",
   "execution_count": null,
   "metadata": {},
   "outputs": [],
   "source": [
    "df1.plot(y=\"distance_traveled\", title=\"PPO Distance Traveled (Session 1)\", style=\".-\")\n",
    "df2.plot(y=\"distance_traveled\", title=\"PPO Distance Traveled (Session 2)\", style=\".-\")"
   ]
  },
  {
   "cell_type": "code",
   "execution_count": null,
   "metadata": {},
   "outputs": [],
   "source": [
    "df1_grouped = df1.groupby(df1.index // 25).mean()\n",
    "df1_grouped.plot(\n",
    "    y=\"distance_traveled\",\n",
    "    title=\"PPO Distance Traveled (Average every 25 episodes) (Session 1)\",\n",
    "    style=\".-\",\n",
    "    xticks=range(0, len(df1_grouped), 5),\n",
    "    xlabel=\"Episode (x25)\",\n",
    "    ylabel=\"Distance Traveled\",\n",
    ")\n",
    "\n",
    "df2_grouped = df2.groupby(df2.index // 5).mean()\n",
    "df2_grouped.plot(\n",
    "    y=\"distance_traveled\",\n",
    "    title=\"PPO Distance Traveled (Average every 5 episodes) (Session 2)\",\n",
    "    style=\".-\",\n",
    "    xticks=range(0, len(df2_grouped), 5),\n",
    "    xlabel=\"Episode (x5)\",\n",
    ")"
   ]
  },
  {
   "cell_type": "markdown",
   "metadata": {},
   "source": [
    "## DQN Analysis"
   ]
  },
  {
   "cell_type": "code",
   "execution_count": null,
   "metadata": {},
   "outputs": [],
   "source": [
    "df1 = pd.read_csv(\"metrics/dqn/dqn_1.csv\")\n",
    "df2 = pd.read_csv(\"metrics/dqn/dqn_2.csv\")"
   ]
  },
  {
   "cell_type": "code",
   "execution_count": null,
   "metadata": {},
   "outputs": [],
   "source": [
    "df1.plot(y=\"distance_traveled\", title=\"DQN Distance Traveled (Session 1)\", style=\".-\")\n",
    "df2.plot(y=\"distance_traveled\", title=\"DQN Distance Traveled (Session 2)\", style=\".-\")"
   ]
  },
  {
   "cell_type": "code",
   "execution_count": null,
   "metadata": {},
   "outputs": [],
   "source": [
    "df1_grouped = df1.groupby(df1.index // 100).mean()\n",
    "df1_grouped.plot(\n",
    "    y=\"distance_traveled\",\n",
    "    title=\"DQN Distance Traveled (Average every 100 episodes) (Session 1)\",\n",
    "    style=\".-\",\n",
    "    xticks=range(0, len(df1_grouped), 5),\n",
    "    xlabel=\"Episode (x100)\",\n",
    "    ylabel=\"Distance Traveled\",\n",
    ")\n",
    "\n",
    "df2_grouped = df2.groupby(df2.index // 50).mean()\n",
    "df2_grouped.plot(\n",
    "    y=\"distance_traveled\",\n",
    "    title=\"DQN Distance Traveled (Average every 50 episodes) (Session 2)\",\n",
    "    style=\".-\",\n",
    "    xticks=range(0, len(df2_grouped), 5),\n",
    "    xlabel=\"Episode (x50)\",\n",
    ")"
   ]
  }
 ],
 "metadata": {
  "kernelspec": {
   "display_name": "Python 3",
   "language": "python",
   "name": "python3"
  },
  "language_info": {
   "codemirror_mode": {
    "name": "ipython",
    "version": 3
   },
   "file_extension": ".py",
   "mimetype": "text/x-python",
   "name": "python",
   "nbconvert_exporter": "python",
   "pygments_lexer": "ipython3",
   "version": "3.10.12"
  }
 },
 "nbformat": 4,
 "nbformat_minor": 2
}
