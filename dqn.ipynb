{
 "cells": [
  {
   "cell_type": "code",
   "execution_count": null,
   "metadata": {},
   "outputs": [],
   "source": [
    "from env import CarEnv\n",
    "from stable_baselines3 import DQN"
   ]
  },
  {
   "cell_type": "code",
   "execution_count": null,
   "metadata": {},
   "outputs": [],
   "source": [
    "total_timesteps = 150000 #300k\n",
    "learning_rate  = 0.0005 #0.004 (4*10^-3) recommended\n",
    "ent_coef       = 0.01 \n",
    "gamma          = 0.99 \n",
    "gae_lambda     = 0.95\n",
    "max_grad_norm  = 0.5"
   ]
  },
  {
   "cell_type": "code",
   "execution_count": null,
   "metadata": {},
   "outputs": [],
   "source": [
    "env = CarEnv()\n",
    "model = DQN('MlpPolicy', env,\n",
    "            policy_kwargs=dict(net_arch=[256, 256]),\n",
    "            learning_rate=learning_rate,\n",
    "            gamma=gamma,\n",
    "            max_grad_norm=max_grad_norm,\n",
    "            tensorboard_log=\"dqn_logs\")\n",
    "\n",
    "try:\n",
    "    model.learn(int(2e5))\n",
    "except KeyboardInterrupt:\n",
    "    print(\"Saving model due to KeyboardInterrupt\")\n",
    "finally:\n",
    "    model.save(\"models/dqn\")"
   ]
  },
  {
   "cell_type": "code",
   "execution_count": null,
   "metadata": {},
   "outputs": [],
   "source": [
    "model = DQN.load(\"models/dqn\")\n",
    "env = CarEnv()\n",
    "\n",
    "while True:\n",
    "    done = truncated = False\n",
    "    obs = env.reset()\n",
    "    while not (done or truncated):\n",
    "        action, _states = model.predict(obs, deterministic=False)\n",
    "        obs, reward, done, info = env.step(action)\n",
    "        env.render()"
   ]
  },
  {
   "cell_type": "markdown",
   "metadata": {},
   "source": [
    "Second Iteration"
   ]
  },
  {
   "cell_type": "code",
   "execution_count": null,
   "metadata": {},
   "outputs": [],
   "source": [
    "model_path = \"models/dqn\"\n",
    "new_model_path = \"models/dqn_2\"\n",
    "\n",
    "env = CarEnv()\n",
    "model = DQN.load(model_path, env=env)\n",
    "\n",
    "try:\n",
    "    model.learn(int(2e5))\n",
    "except KeyboardInterrupt:\n",
    "    print(\"Saving model due to KeyboardInterrupt\")\n",
    "finally:\n",
    "    model.save(new_model_path)"
   ]
  },
  {
   "cell_type": "code",
   "execution_count": null,
   "metadata": {},
   "outputs": [],
   "source": [
    "model = DQN.load(\"models/dqn_2\")\n",
    "env = CarEnv()\n",
    "\n",
    "while True:\n",
    "    done = truncated = False\n",
    "    obs = env.reset()\n",
    "    while not (done or truncated):\n",
    "        action, _states = model.predict(obs, deterministic=False)\n",
    "        obs, reward, done, info = env.step(action)\n",
    "        env.render()\n"
   ]
  },
  {
   "cell_type": "markdown",
   "metadata": {},
   "source": [
    "Third Iteration"
   ]
  },
  {
   "cell_type": "code",
   "execution_count": null,
   "metadata": {},
   "outputs": [],
   "source": [
    "model_path = \"models/dqn_2\"\n",
    "new_model_path = \"models/dqn_3\"\n",
    "\n",
    "env = CarEnv()\n",
    "model = DQN.load(model_path, env=env)\n",
    "\n",
    "try:\n",
    "    model.learn(int(2e5))\n",
    "except KeyboardInterrupt:\n",
    "    print(\"Saving model due to KeyboardInterrupt\")\n",
    "finally:\n",
    "    model.save(new_model_path)"
   ]
  },
  {
   "cell_type": "code",
   "execution_count": 6,
   "metadata": {},
   "outputs": [],
   "source": [
    "model = DQN.load(\"models/dqn_3\")\n",
    "env = CarEnv()\n",
    "\n",
    "while True:\n",
    "    done = truncated = False\n",
    "    obs = env.reset()\n",
    "    while not (done or truncated):\n",
    "        action, _states = model.predict(obs, deterministic=False)\n",
    "        obs, reward, done, info = env.step(action)\n",
    "        env.render()"
   ]
  },
  {
   "cell_type": "code",
   "execution_count": null,
   "metadata": {},
   "outputs": [],
   "source": [
    "model_path = \"models/dqn_3\"\n",
    "new_model_path = \"models/dqn_4\"\n",
    "\n",
    "env = CarEnv()\n",
    "model = DQN.load(model_path, env=env)\n",
    "\n",
    "try:\n",
    "    model.learn(int(2e5))\n",
    "except KeyboardInterrupt:\n",
    "    print(\"Saving model due to KeyboardInterrupt\")\n",
    "finally:\n",
    "    model.save(new_model_path)"
   ]
  },
  {
   "cell_type": "code",
   "execution_count": null,
   "metadata": {},
   "outputs": [],
   "source": [
    "model = DQN.load(\"models/dqn_4\")\n",
    "env = CarEnv()\n",
    "\n",
    "while True:\n",
    "    done = truncated = False\n",
    "    obs = env.reset()\n",
    "    while not (done or truncated):\n",
    "        action, _states = model.predict(obs, deterministic=False)\n",
    "        obs, reward, done, info = env.step(action)\n",
    "        env.render()"
   ]
  }
 ],
 "metadata": {
  "kernelspec": {
   "display_name": "Python 3",
   "language": "python",
   "name": "python3"
  },
  "language_info": {
   "codemirror_mode": {
    "name": "ipython",
    "version": 3
   },
   "file_extension": ".py",
   "mimetype": "text/x-python",
   "name": "python",
   "nbconvert_exporter": "python",
   "pygments_lexer": "ipython3",
   "version": "3.10.12"
  }
 },
 "nbformat": 4,
 "nbformat_minor": 2
}
