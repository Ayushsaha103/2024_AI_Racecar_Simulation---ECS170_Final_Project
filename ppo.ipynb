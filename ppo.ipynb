{
 "cells": [
  {
   "cell_type": "code",
   "execution_count": null,
   "metadata": {},
   "outputs": [],
   "source": [
    "from env import CarEnv\n",
    "from stable_baselines3 import PPO\n",
    "from stable_baselines3.common.monitor import Monitor\n",
    "from DataTracker import DataTracker\n",
    "import pandas as pd\n",
    "import numpy as np\n",
    "import matplotlib.pyplot as plt"
   ]
  },
  {
   "cell_type": "code",
   "execution_count": null,
   "metadata": {},
   "outputs": [],
   "source": [
    "total_timesteps = 150000  # 300k\n",
    "learning_rate = 0.0005  # 0.004 (4*10^-3) recommended\n",
    "ent_coef = 0.01\n",
    "gamma = 0.99\n",
    "gae_lambda = 0.95\n",
    "max_grad_norm = 0.5"
   ]
  },
  {
   "cell_type": "code",
   "execution_count": null,
   "metadata": {},
   "outputs": [],
   "source": [
    "env = Monitor(CarEnv())\n",
    "data_tracker = DataTracker()\n",
    "model = PPO(\n",
    "    \"MlpPolicy\",\n",
    "    env,\n",
    "    policy_kwargs=dict(net_arch=[256, 256]),\n",
    "    learning_rate=learning_rate,\n",
    "    ent_coef=ent_coef,\n",
    "    gamma=gamma,\n",
    "    gae_lambda=gae_lambda,\n",
    "    max_grad_norm=max_grad_norm,\n",
    "    tensorboard_log=\"ppo_logs\",\n",
    ")\n",
    "\n",
    "try:\n",
    "    model.learn(int(2e5), callback=data_tracker)\n",
    "except KeyboardInterrupt:\n",
    "    print(\"Saving model due to KeyboardInterrupt\")\n",
    "finally:\n",
    "    model.save(\"models/ppo_1\")\n",
    "    data_tracker.save(\"metrics/ppo/ppo_1.csv\")\n",
    "\n",
    "    episode_rewards = env.get_episode_rewards()\n",
    "    episode_lengths = env.get_episode_lengths()\n",
    "    ep_df = pd.DataFrame({\"episode_rewards\": episode_rewards, \"episode_lengths\": episode_lengths})\n",
    "    ep_df.to_csv(\"metrics/ppo/ppo_1_episodes.csv\")"
   ]
  },
  {
   "cell_type": "code",
   "execution_count": null,
   "metadata": {},
   "outputs": [],
   "source": [
    "model = PPO.load(\"models/ppo\")\n",
    "env = CarEnv()\n",
    "\n",
    "while True:\n",
    "    done = truncated = False\n",
    "    obs, info = env.reset()\n",
    "    while not (done or truncated):\n",
    "        action, _states = model.predict(obs, deterministic=False)\n",
    "        obs, reward, done, _trunc, info = env.step(action)\n",
    "        env.render()"
   ]
  },
  {
   "cell_type": "markdown",
   "metadata": {},
   "source": [
    "Second Iteration\n"
   ]
  },
  {
   "cell_type": "code",
   "execution_count": null,
   "metadata": {},
   "outputs": [],
   "source": [
    "model_path = \"models/ppo_1\"\n",
    "new_model_path = \"models/ppo_2\"\n",
    "\n",
    "env = Monitor(CarEnv())\n",
    "data_tracker = DataTracker()\n",
    "model = PPO.load(model_path, env=env)\n",
    "\n",
    "try:\n",
    "    model.learn(int(2e5), callback=data_tracker)\n",
    "except KeyboardInterrupt:\n",
    "    print(\"Saving model due to KeyboardInterrupt\")\n",
    "finally:\n",
    "    model.save(new_model_path)\n",
    "    data_tracker.save(\"metrics/ppo/ppo_2.csv\")\n",
    "\n",
    "    episode_rewards = env.get_episode_rewards()\n",
    "    episode_lengths = env.get_episode_lengths()\n",
    "    ep_df = pd.DataFrame({\"episode_rewards\": episode_rewards, \"episode_lengths\": episode_lengths})\n",
    "    ep_df.to_csv(\"metrics/ppo/ppo_2_episodes.csv\")"
   ]
  },
  {
   "cell_type": "code",
   "execution_count": null,
   "metadata": {},
   "outputs": [],
   "source": [
    "model = PPO.load(\"models/ppo_2\")\n",
    "env = CarEnv()\n",
    "\n",
    "while True:\n",
    "    done = truncated = False\n",
    "    obs, info = env.reset()\n",
    "    while not (done or truncated):\n",
    "        action, _states = model.predict(obs, deterministic=True)\n",
    "        obs, reward, done, _trunc, info = env.step(action)\n",
    "        env.render()"
   ]
  }
 ],
 "metadata": {
  "kernelspec": {
   "display_name": "Python 3",
   "language": "python",
   "name": "python3"
  },
  "language_info": {
   "codemirror_mode": {
    "name": "ipython",
    "version": 3
   },
   "file_extension": ".py",
   "mimetype": "text/x-python",
   "name": "python",
   "nbconvert_exporter": "python",
   "pygments_lexer": "ipython3",
   "version": "3.10.12"
  }
 },
 "nbformat": 4,
 "nbformat_minor": 2
}
