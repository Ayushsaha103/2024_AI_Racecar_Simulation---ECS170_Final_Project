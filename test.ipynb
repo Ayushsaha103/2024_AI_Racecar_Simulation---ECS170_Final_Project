{
 "cells": [
  {
   "cell_type": "code",
   "execution_count": 20,
   "metadata": {},
   "outputs": [],
   "source": [
    "import pandas as pd\n",
    "import matplotlib.pyplot as plt\n",
    "from env import CarEnv\n",
    "from stable_baselines3 import A2C, DQN, PPO\n",
    "from stable_baselines3.common.monitor import Monitor"
   ]
  },
  {
   "cell_type": "code",
   "execution_count": 28,
   "metadata": {},
   "outputs": [],
   "source": [
    "num_steps = int(2e4)"
   ]
  },
  {
   "cell_type": "code",
   "execution_count": 29,
   "metadata": {},
   "outputs": [
    {
     "name": "stdout",
     "output_type": "stream",
     "text": [
      "Environment loading..\n",
      "\n",
      "Observation space:\n",
      "Box(-inf, inf, (8,), float16)\n",
      "\n",
      "Action space:\n",
      "Discrete(5)\n",
      "\n",
      "Action space sample:\n",
      "1\n",
      "A2C sample efficiency: -0.12848153334142387\n"
     ]
    }
   ],
   "source": [
    "env = Monitor(CarEnv(limit=10000))\n",
    "model = A2C.load(\"models/a2c_1\")\n",
    "\n",
    "\n",
    "obs, info = env.reset()\n",
    "for step in range(num_steps):\n",
    "    action, _ = model.predict(obs, deterministic=True)\n",
    "    obs, reward, done, trunc, info = env.step(action)\n",
    "    if done or trunc:\n",
    "        obs, info = env.reset()\n",
    "\n",
    "sum_episode_rewards = sum(env.get_episode_rewards())\n",
    "sum_episode_lengths = sum(env.get_episode_lengths())\n",
    "\n",
    "a2c_sample_efficiecy = sum_episode_rewards / sum_episode_lengths\n",
    "print(f\"A2C sample efficiency: {a2c_sample_efficiecy}\")"
   ]
  },
  {
   "cell_type": "code",
   "execution_count": 30,
   "metadata": {},
   "outputs": [
    {
     "name": "stdout",
     "output_type": "stream",
     "text": [
      "Environment loading..\n",
      "\n",
      "Observation space:\n",
      "Box(-inf, inf, (8,), float16)\n",
      "\n",
      "Action space:\n",
      "Discrete(5)\n",
      "\n",
      "Action space sample:\n",
      "2\n",
      "DQN sample efficiency: 0.011863578628904524\n"
     ]
    }
   ],
   "source": [
    "env = Monitor(CarEnv(limit=10000))\n",
    "model = DQN.load(\"models/dqn_2\")\n",
    "\n",
    "obs, info = env.reset()\n",
    "for step in range(num_steps):\n",
    "    action, _ = model.predict(obs, deterministic=True)\n",
    "    obs, reward, done, trunc, info = env.step(action)\n",
    "    if done or trunc:\n",
    "        obs, info = env.reset()\n",
    "\n",
    "sum_episode_rewards = sum(env.get_episode_rewards())\n",
    "sum_episode_lengths = sum(env.get_episode_lengths())\n",
    "\n",
    "dqn_sample_efficiecy = sum_episode_rewards / sum_episode_lengths\n",
    "print(f\"DQN sample efficiency: {dqn_sample_efficiecy}\")"
   ]
  },
  {
   "cell_type": "code",
   "execution_count": 31,
   "metadata": {},
   "outputs": [
    {
     "name": "stdout",
     "output_type": "stream",
     "text": [
      "Environment loading..\n",
      "\n",
      "Observation space:\n",
      "Box(-inf, inf, (8,), float16)\n",
      "\n",
      "Action space:\n",
      "Discrete(5)\n",
      "\n",
      "Action space sample:\n",
      "3\n",
      "PPO sample efficiency: 0.3368365177272521\n"
     ]
    }
   ],
   "source": [
    "env = Monitor(CarEnv(limit=10000))\n",
    "model = PPO.load(\"models/ppo_2\")\n",
    "\n",
    "obs, info = env.reset()\n",
    "for step in range(num_steps):\n",
    "    action, _ = model.predict(obs, deterministic=True)\n",
    "    obs, reward, done, trunc, info = env.step(action)\n",
    "    if done or trunc:\n",
    "        obs, info = env.reset()\n",
    "\n",
    "sum_episode_rewards = sum(env.get_episode_rewards())\n",
    "sum_episode_lengths = sum(env.get_episode_lengths())\n",
    "\n",
    "ppo_sample_efficiecy = sum_episode_rewards / sum_episode_lengths\n",
    "print(f\"PPO sample efficiency: {ppo_sample_efficiecy}\")"
   ]
  },
  {
   "cell_type": "code",
   "execution_count": 32,
   "metadata": {},
   "outputs": [
    {
     "data": {
      "image/png": "[encoded data removed]",
      "text/plain": [
       "<Figure size 640x480 with 1 Axes>"
      ]
     },
     "metadata": {},
     "output_type": "display_data"
    }
   ],
   "source": [
    "# plot bar graph\n",
    "fig, ax = plt.subplots()\n",
    "bar_labels = [\"A2C\", \"DQN\", \"PPO\"]\n",
    "bar_values = [a2c_sample_efficiecy, dqn_sample_efficiecy, ppo_sample_efficiecy]\n",
    "bars = ax.bar(bar_labels, bar_values)\n",
    "ax.set_ylabel(\"Sample Efficiency\")\n",
    "ax.set_title(\"Sample Efficiency of RL Algorithms\")\n",
    "\n",
    "# Add values on top of bars\n",
    "for bar in bars:\n",
    "    yval = bar.get_height()\n",
    "    ax.text(\n",
    "        bar.get_x() + bar.get_width() / 2,\n",
    "        yval,\n",
    "        round(yval, 2),\n",
    "        ha=\"center\",\n",
    "        va=\"bottom\",\n",
    "    )\n",
    "\n",
    "plt.show()"
   ]
  }
 ],
 "metadata": {
  "kernelspec": {
   "display_name": "Python 3",
   "language": "python",
   "name": "python3"
  },
  "language_info": {
   "codemirror_mode": {
    "name": "ipython",
    "version": 3
   },
   "file_extension": ".py",
   "mimetype": "text/x-python",
   "name": "python",
   "nbconvert_exporter": "python",
   "pygments_lexer": "ipython3",
   "version": "3.10.12"
  }
 },
 "nbformat": 4,
 "nbformat_minor": 2
}
